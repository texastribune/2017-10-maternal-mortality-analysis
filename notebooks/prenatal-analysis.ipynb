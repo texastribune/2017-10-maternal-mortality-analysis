{
 "cells": [
  {
   "cell_type": "code",
   "execution_count": 1,
   "metadata": {
    "collapsed": false,
    "deletable": true,
    "editable": true,
    "scrolled": true
   },
   "outputs": [],
   "source": [
    "import agate\n",
    "import warnings\n",
    "from decimal import *\n",
    "\n",
    "warnings.filterwarnings(action='ignore')\n",
    "\n",
    "g_table_geos = agate.Table.from_csv('../data/county-geos.csv')\n",
    "\n",
    "def is_float(string):\n",
    "    try:\n",
    "        # True if string is a number contains a dot\n",
    "        return float(string) and '.' in string\n",
    "    # String is not a number\n",
    "    except ValueError:\n",
    "        return False\n",
    "\n",
    "# Get percent of filters in the table\n",
    "# The filters and table are parameters\n",
    "# f is short for filter\n",
    "def perc_calc(table, f_col, fs):\n",
    "  try:\n",
    "    f_sum = 0\n",
    "    f_tables = []\n",
    "    f_string = \"\"\n",
    "    \n",
    "    for i in fs:\n",
    "        f_table = table.aggregate( agate.Count(f_col, i) )\n",
    "        f_tables.append(f_table)\n",
    "        f_sum += f_table\n",
    "    \n",
    "    for index,i in enumerate(fs):\n",
    "        f_perc = round(f_tables[index] / f_sum * 100, 2)\n",
    "        f_string += i + ': ' + str(f_perc) + ', '\n",
    "    \n",
    "    return f_string\n",
    "\n",
    "  except ValueError:\n",
    "    return False\n",
    "\n",
    "def perc_global(table_one, table_two, classify_column, classify_column_two, perc_column, filter_column, filters, limit):\n",
    "    try:\n",
    "        # Join with geos\n",
    "        table_geos = table_one.join(g_table_geos, classify_column, 'county', inner=True)\n",
    "        table_defs_geos = table_two.join(g_table_geos, classify_column_two, 'county', inner=True)\n",
    "        table_join = table_geos.join(table_defs_geos, 'geo', 'geo', inner=True)\n",
    "    \n",
    "        # If something didn't join right, print it out\n",
    "        if table_join:\n",
    "            table_join_null = table_join.where(lambda row: row[filter_column] == None)\n",
    "            \n",
    "            if table_join_null:\n",
    "                return \"not everything joined\"\n",
    "        \n",
    "        # Select only a few rows, get only integer or floats\n",
    "        # And order\n",
    "        table_filter = table_join.select((classify_column, perc_column, filter_column))\n",
    "        table_filter_digit = table_filter.where(lambda row: row[perc_column].isdigit() or is_float(row[perc_column]) )\n",
    "        table_order = table_filter_digit.order_by(lambda row: row[perc_column])\n",
    "        table_top = table_order.limit(limit)\n",
    "        \n",
    "        print('Entire table')\n",
    "        print( perc_calc(table_order, filter_column, filters) )\n",
    "        print('-')\n",
    "        print( 'Top ' + str(limit) )\n",
    "        print( perc_calc(table_top, filter_column, filters) )\n",
    "    except ValueError:\n",
    "        return False\n",
    "    \n",
    "class AddBuckets(agate.Computation):\n",
    "    def get_computed_data_type(self, table):\n",
    "        return agate.Number()\n",
    "    \n",
    "    def run(self, table):\n",
    "        new_column = []\n",
    "        \n",
    "        for index, row in enumerate(table.rows):\n",
    "            match = False\n",
    "            \n",
    "            for i in filters_all:\n",
    "                split = i.split('-')\n",
    "                row_data = int(row[filter_column_og])\n",
    "                \n",
    "                if row_data >= int(split[0]) and row_data < ( int(split[1]) + 1):\n",
    "                    new_column.append(i)\n",
    "                    match = True\n",
    "            \n",
    "            if not match:\n",
    "                print(row[filter_column_og])\n",
    "                \n",
    "        return new_column\n",
    "    \n",
    "class AddPercent(agate.Computation):\n",
    "    def get_computed_data_type(self, table):\n",
    "        return agate.Number()\n",
    "    \n",
    "    def run(self, table):\n",
    "        new_column = []\n",
    "        \n",
    "        for index, row in enumerate(table.rows):\n",
    "            perc = round(row[table_two_perc] / row[table_two_perc_total] * 100, 2)\n",
    "            \n",
    "            new_column.append(perc)\n",
    "                \n",
    "        return new_column"
   ]
  },
  {
   "cell_type": "code",
   "execution_count": 2,
   "metadata": {
    "collapsed": false,
    "deletable": true,
    "editable": true
   },
   "outputs": [
    {
     "name": "stdout",
     "output_type": "stream",
     "text": [
      "Entire table\n",
      "Rural: 65.67, Urban: 34.33, \n",
      "-\n",
      "Top 20\n",
      "Rural: 80.0, Urban: 20.0, \n"
     ]
    }
   ],
   "source": [
    "table_one = agate.Table.from_csv('../data/prenatal/prenatal-county-historical.csv')\n",
    "table_two = agate.Table.from_csv('../data/prenatal/rural-urban-defs.csv')\n",
    "classify_column = 'county'\n",
    "classify_column_two = 'county'\n",
    "perc_column = 'percent_2014'\n",
    "filter_column =  'Urbanization Status'\n",
    "filters = ['Rural', 'Urban']\n",
    "limit = 20\n",
    "\n",
    "perc_global(table_one, table_two, classify_column, classify_column_two, perc_column, filter_column, filters, limit)"
   ]
  },
  {
   "cell_type": "code",
   "execution_count": 3,
   "metadata": {
    "collapsed": false,
    "deletable": true,
    "editable": true,
    "scrolled": false
   },
   "outputs": [
    {
     "name": "stdout",
     "output_type": "stream",
     "text": [
      "Entire table\n",
      "Border: 12.02, Non-Border: 87.98, \n",
      "-\n",
      "Top 20\n",
      "Border: 30.0, Non-Border: 70.0, \n"
     ]
    }
   ],
   "source": [
    "table_one = agate.Table.from_csv('../data/prenatal/prenatal-county-historical.csv')\n",
    "table_two = agate.Table.from_csv('../data/prenatal/rural-urban-defs.csv')\n",
    "classify_column = 'county'\n",
    "classify_column_two = 'county'\n",
    "perc_column = 'percent_2014'\n",
    "filter_column =  'Border Status'\n",
    "filters =  ['Border', 'Non-Border']\n",
    "limit = 20\n",
    "\n",
    "perc_global(table_one, table_two, classify_column, classify_column_two, perc_column, filter_column, filters, limit)"
   ]
  },
  {
   "cell_type": "code",
   "execution_count": 4,
   "metadata": {
    "collapsed": false,
    "deletable": true,
    "editable": true
   },
   "outputs": [
    {
     "name": "stdout",
     "output_type": "stream",
     "text": [
      "Entire table\n",
      "0-70: 5.98, 71-100: 94.02, \n",
      "-\n",
      "Top 20\n",
      "0-70: 20.0, 71-100: 80.0, \n"
     ]
    }
   ],
   "source": [
    "table_one = agate.Table.from_csv('../data/prenatal/prenatal-county-historical.csv')\n",
    "table_two = agate.Table.from_csv('../data/uninsured/ACS_15_5YR_S2701.csv')\n",
    "classify_column = 'county'\n",
    "classify_column_two = 'Geography'\n",
    "filter_column_og =  'Percent Insured; Estimate; Civilian noninstitutionalized population'\n",
    "perc_column = 'percent_2014'\n",
    "filter_column =  'bucket'\n",
    "filters_all =  ['0-70', '71-100']\n",
    "filters_shown =  ['0-70', '71-100']\n",
    "limit = 20\n",
    "\n",
    "table_two_add = table_two.compute([\n",
    "  ( filter_column, AddBuckets() )\n",
    "])\n",
    "\n",
    "perc_global(table_one, table_two_add, classify_column, classify_column_two, perc_column, filter_column, filters_shown, limit)"
   ]
  },
  {
   "cell_type": "code",
   "execution_count": 5,
   "metadata": {
    "collapsed": false,
    "deletable": true,
    "editable": true
   },
   "outputs": [
    {
     "name": "stdout",
     "output_type": "stream",
     "text": [
      "Entire table\n",
      "0-19: 79.91, 20-100: 20.09, \n",
      "-\n",
      "Top 20\n",
      "0-19: 60.0, 20-100: 40.0, \n"
     ]
    }
   ],
   "source": [
    "table_one = agate.Table.from_csv('../data/prenatal/prenatal-county-historical.csv')\n",
    "table_two = agate.Table.from_csv('../data/poverty/nhgis0015_ds215_20155_2015_county.csv')\n",
    "table_two_perc = 'ADNHE002'\n",
    "table_two_perc_total = 'ADNHE001'\n",
    "classify_column = 'county'\n",
    "classify_column_two = 'COUNTY'\n",
    "filter_column_og =  'percent'\n",
    "perc_column = 'percent_2014'\n",
    "filter_column =  'bucket'\n",
    "filters_all =  ['0-19', '20-100']\n",
    "filters_shown =  ['0-19', '20-100']\n",
    "limit = 20\n",
    "\n",
    "table_two_add = table_two.compute([\n",
    "    ( filter_column_og, AddPercent() ),\n",
    "])\n",
    "\n",
    "table_two_add_two = table_two_add.compute([\n",
    "    ( filter_column, AddBuckets() )\n",
    "])\n",
    "\n",
    "perc_global(table_one, table_two_add_two, classify_column, classify_column_two, perc_column, filter_column, filters_shown, limit)"
   ]
  },
  {
   "cell_type": "code",
   "execution_count": null,
   "metadata": {
    "collapsed": false,
    "deletable": true,
    "editable": true
   },
   "outputs": [],
   "source": []
  }
 ],
 "metadata": {
  "kernelspec": {
   "display_name": "Python 3",
   "language": "python",
   "name": "python3"
  },
  "language_info": {
   "codemirror_mode": {
    "name": "ipython",
    "version": 3
   },
   "file_extension": ".py",
   "mimetype": "text/x-python",
   "name": "python",
   "nbconvert_exporter": "python",
   "pygments_lexer": "ipython3",
   "version": "3.6.2"
  }
 },
 "nbformat": 4,
 "nbformat_minor": 2
}
