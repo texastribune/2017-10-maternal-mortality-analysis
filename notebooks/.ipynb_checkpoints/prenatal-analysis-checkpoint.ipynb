{
 "cells": [
  {
   "cell_type": "code",
   "execution_count": 126,
   "metadata": {
    "collapsed": false,
    "deletable": true,
    "editable": true,
    "scrolled": true
   },
   "outputs": [],
   "source": [
    "import agate\n",
    "import warnings\n",
    "from decimal import *\n",
    "\n",
    "warnings.filterwarnings(action='ignore')\n",
    "\n",
    "def is_float(string):\n",
    "    try:\n",
    "        # True if string is a number contains a dot\n",
    "        return float(string) and '.' in string\n",
    "    # String is not a number\n",
    "    except ValueError:\n",
    "        return False\n",
    "\n",
    "# Get percent of filters in the table\n",
    "# The filters and table are parameters\n",
    "# f is short for filter\n",
    "def perc_calc(table, f_col, f_one, f_two):\n",
    "  try:\n",
    "    f_one_table = table.aggregate( agate.Count(f_col, f_one) )\n",
    "    f_two_table = table.aggregate( agate.Count(f_col, f_two) )\n",
    "    f_sum = f_one_table + f_two_table\n",
    "    \n",
    "    f_one_perc = round(f_one_table / f_sum * 100, 2)\n",
    "    f_two_perc = round(f_two_table / f_sum * 100, 2)\n",
    "    \n",
    "    return f_one + ': ' + str(f_one_perc) + ', ' + f_two + ': ' + str(f_two_perc)\n",
    "  except ValueError:\n",
    "    return False\n",
    "\n",
    "def perc_global(table_one, table_two, classify_column, perc_column, filter_column, filter_one, filter_two):\n",
    "    try:\n",
    "        table_geos = agate.Table.from_csv('../data/county-geos.csv')\n",
    "        table = agate.Table.from_csv(table_one)\n",
    "        table_defs = agate.Table.from_csv(table_two)\n",
    "    \n",
    "        # Join with geos\n",
    "        table_geos = table.join(table_geos, classify_column, classify_column, inner=True)\n",
    "        table_defs_geos = table_defs.join(table_geos, classify_column, classify_column, inner=True)\n",
    "        table_join = table_geos.join(table_defs_geos, 'geo', 'geo', inner=True)\n",
    "    \n",
    "        # If something didn't join right, print it out\n",
    "        if table_join:\n",
    "            table_join_null = table_join.where(lambda row: row[filter_column] == None)\n",
    "            \n",
    "            if table_join_null:\n",
    "                return \"not everything joined\"\n",
    "        \n",
    "        # Select only a few rows, get only integer or floats\n",
    "        # And order\n",
    "        table_filter = table_join.select((classify_column, perc_column, filter_column))\n",
    "        table_filter_digit = table_filter.where(lambda row: row[perc_column].isdigit() or is_float(row[perc_column]) )\n",
    "        table_order = table_filter_digit.order_by(lambda row: row[perc_column])\n",
    "    \n",
    "        print('Entire table')\n",
    "        print( perc(table_filter, filter_column, filter_one, filter_two) )\n",
    "        print('-')\n",
    "        print('Top 20')\n",
    "        print( perc(table_20, filter_column, filter_one, filter_two) )\n",
    "    except ValueError:\n",
    "        return False"
   ]
  },
  {
   "cell_type": "code",
   "execution_count": 127,
   "metadata": {
    "collapsed": false,
    "deletable": true,
    "editable": true
   },
   "outputs": [
    {
     "name": "stdout",
     "output_type": "stream",
     "text": [
      "Entire table\n",
      "Rural: 67.59, Urban: 32.41\n",
      "-\n",
      "Top 20\n",
      "Rural: 80.0, Urban: 20.0\n"
     ]
    }
   ],
   "source": [
    "table_one = '../data/prenatal/prenatal-county-historical.csv'\n",
    "table_two = '../data/prenatal/rural-urban-defs.csv'\n",
    "classify_column = 'county'\n",
    "perc_column = 'percent_2014'\n",
    "filter_column =  'Urbanization Status'\n",
    "filter_one =  'Rural'\n",
    "filter_two =  'Urban'\n",
    "\n",
    "perc_global(table_one, table_two, classify_column, perc_column, filter_column, filter_one, filter_two)"
   ]
  },
  {
   "cell_type": "code",
   "execution_count": null,
   "metadata": {
    "collapsed": true
   },
   "outputs": [],
   "source": [
    "table_one = '../data/prenatal/prenatal-county-historical.csv'\n",
    "table_two = '../data/prenatal/rural-urban-defs.csv'\n",
    "classify_column = 'county'\n",
    "perc_column = 'percent_2014'\n",
    "filter_column =  'Border Status'\n",
    "filter_one =  'Border'\n",
    "filter_two =  'Non-Border'\n",
    "\n",
    "perc_global(table_one, table_two, classify_column, perc_column, filter_column, filter_one, filter_two)"
   ]
  }
 ],
 "metadata": {
  "kernelspec": {
   "display_name": "Python 3",
   "language": "python",
   "name": "python3"
  },
  "language_info": {
   "codemirror_mode": {
    "name": "ipython",
    "version": 3
   },
   "file_extension": ".py",
   "mimetype": "text/x-python",
   "name": "python",
   "nbconvert_exporter": "python",
   "pygments_lexer": "ipython3",
   "version": "3.6.2"
  }
 },
 "nbformat": 4,
 "nbformat_minor": 2
}
