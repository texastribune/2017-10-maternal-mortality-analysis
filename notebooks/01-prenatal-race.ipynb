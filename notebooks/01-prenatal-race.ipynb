{
 "cells": [
  {
   "cell_type": "code",
   "execution_count": 13,
   "metadata": {
    "collapsed": false
   },
   "outputs": [],
   "source": [
    "import warnings\n",
    "import agate\n",
    "from pathlib import Path\n",
    "from shutil import copyfile\n",
    "import os\n",
    "import csv\n",
    "from decimal import *\n",
    "\n",
    "warnings.filterwarnings(action='ignore')\n",
    "\n",
    "g_table_geos = agate.Table.from_csv('../data/county-geos.csv')\n",
    "\n",
    "def join_tables(fp, classify_column,  columns_i):            \n",
    "    try:\n",
    "        table = agate.Table.from_csv(fp, encoding='utf-8-sig')\n",
    "        \n",
    "        # Not our first time through\n",
    "        # Join tables\n",
    "        if Path(g_table_merge_fp).is_file():\n",
    "            print(\"file exists\")\n",
    "            # Take our global table\n",
    "            # And our table getting passed through the function\n",
    "            # give them both geo ids\n",
    "            # then join to make one big, beautiful table\n",
    "            table_one = agate.Table.from_csv(g_table_merge_fp, encoding='utf-8-sig')\n",
    "            table_geos = table_one.join(g_table_geos, classify_column, 'county',\n",
    "                                    inner=True,\n",
    "                                    columns=columns_i)\n",
    "            \n",
    "            table_one.to_csv('../tmp/table-one.csv')\n",
    "            table_geos.to_csv('../tmp/table-geos.csv')\n",
    "            \n",
    "            table_geos_two = table.join(g_table_geos, classify_column, 'county',\n",
    "                                    inner=True,\n",
    "                                    columns=columns_i)\n",
    "            table_join = table_geos.join(table_geos_two, 'geo', 'geo')\n",
    "            \n",
    "            table_geos_two.to_csv('../tmp/table-geos-two.csv')\n",
    "            table_join.to_csv('../tmp/table-join.csv')\n",
    "                \n",
    "            # If something didn't join right, print it out\n",
    "            if table_join:\n",
    "                table_join_null = table_join.where(lambda row: row[classify_column] == None)\n",
    "\n",
    "                if table_join_null:\n",
    "                    print(\"Not everything joined. Table saved to tmp dir.\")\n",
    "                    table_join.to_csv('../tmp/table-not-joined.csv')\n",
    "                \n",
    "            print(\"saving joined table\")\n",
    "            table_join.exclude(\n",
    "                ['geo2', 'geo2_2', 'geo2_3', 'county2', 'county2_2', 'county22', 'e', 'f', 'g', 'h', 'i', 'j', 'k', 'l', 'm' ,'n', 'o', 'p' ,'q']\n",
    "            ).to_csv(g_table_output)\n",
    "        # First time through\n",
    "        # Don't join tables\n",
    "        else:\n",
    "            print(\"file doesn't exist\")\n",
    "            copyfile(fp, g_table_output)\n",
    "        \n",
    "    except ValueError:\n",
    "        return False"
   ]
  },
  {
   "cell_type": "code",
   "execution_count": 14,
   "metadata": {
    "collapsed": false
   },
   "outputs": [
    {
     "name": "stdout",
     "output_type": "stream",
     "text": [
      "file exists\n",
      "saving joined table\n"
     ]
    }
   ],
   "source": [
    "g_table_merge_fp = '../edits/prenatal/race/01-counties.csv'\n",
    "fp = '../data/prenatal/rural-urban-defs.csv'\n",
    "g_table_output = '../edits/prenatal/race/02-counties-urbanization.csv'\n",
    "classify_column = 'county'\n",
    "columns = ['county', 'white_percent\twhite_number', 'black_percent', 'black_number', 'hispanic_percent', 'hispanic_number', 'other_percent', 'other_number', 'Urbanization Status', 'Border Status', 'geo']\n",
    "\n",
    "join_tables(fp, classify_column, columns)"
   ]
  },
  {
   "cell_type": "code",
   "execution_count": null,
   "metadata": {
    "collapsed": true
   },
   "outputs": [],
   "source": []
  }
 ],
 "metadata": {
  "kernelspec": {
   "display_name": "Python 3",
   "language": "python",
   "name": "python3"
  },
  "language_info": {
   "codemirror_mode": {
    "name": "ipython",
    "version": 3
   },
   "file_extension": ".py",
   "mimetype": "text/x-python",
   "name": "python",
   "nbconvert_exporter": "python",
   "pygments_lexer": "ipython3",
   "version": "3.6.2"
  }
 },
 "nbformat": 4,
 "nbformat_minor": 2
}
