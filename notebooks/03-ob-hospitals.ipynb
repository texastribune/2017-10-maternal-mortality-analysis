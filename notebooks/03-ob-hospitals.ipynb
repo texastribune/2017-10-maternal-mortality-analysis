{
 "cells": [
  {
   "cell_type": "code",
   "execution_count": 288,
   "metadata": {
    "collapsed": false,
    "deletable": true,
    "editable": true
   },
   "outputs": [],
   "source": [
    "import warnings\n",
    "import agate\n",
    "from pathlib import Path\n",
    "from shutil import copyfile\n",
    "import os\n",
    "import csv\n",
    "from decimal import *\n",
    "\n",
    "warnings.filterwarnings(action='ignore')\n",
    "\n",
    "g_table_geos = agate.Table.from_csv('../data/county-geos.csv')\n",
    "\n",
    "# If we already have a geo column\n",
    "def join_tables_geo(table_one, table_two, output_fp):\n",
    "    table_join = table_one.join(table_two, 'geo', 'geo',\n",
    "                            inner=True)\n",
    "    \n",
    "    table_join.exclude(['county2']).to_csv(output_fp)\n",
    "    \n",
    "# If we already have a geo column in one spreadsheet\n",
    "# table_one is the table with the geo column\n",
    "def join_tables_geo_one(table_one, table_two, classify_column, output_fp):\n",
    "    table_two_geos = table_two.join(g_table_geos, classify_column, 'county', inner=True)\n",
    "    table_join = table_one.join(table_two_geos, 'geo', 'geo', inner=True)\n",
    "    \n",
    "    table_join.exclude(['county2']).to_csv(output_fp)\n",
    "    \n",
    "# Join two tables without the geo column\n",
    "def join_tables(fp, classify_column, classify_column_two, select_columns, rename_columns):            \n",
    "    try:\n",
    "        # Take our global table\n",
    "        # And our table getting passed through the function\n",
    "        # give them both geo ids\n",
    "        # then join to make one big, beautiful table\n",
    "        table_one = agate.Table.from_csv(fp, encoding='utf-8-sig')\n",
    "        table_two = agate.Table.from_csv(g_table_merge_fp, encoding='utf-8-sig')\n",
    "        \n",
    "        table_one.to_csv('../tmp/table-one.csv')\n",
    "        table_two.to_csv('../tmp/table-two.csv')\n",
    "        \n",
    "        table_geos = g_table_geos.join(table_one, 'county', classify_column,\n",
    "                                inner=True)\n",
    "        table_geos_two =  g_table_geos.join(table_two, 'county', classify_column_two,\n",
    "                                inner=True)\n",
    "        \n",
    "        table_geos.to_csv('../tmp/table-geos.csv')\n",
    "        table_geos_two.to_csv('../tmp/table-geos-two.csv')\n",
    "        \n",
    "        table_join = table_geos.join(table_geos_two, 'geo', 'geo')\n",
    "\n",
    "        # If something didn't join right, print it out\n",
    "        if table_join:\n",
    "            table_join_null = table_join.where(lambda row: row[classify_column] == None)\n",
    "\n",
    "            if table_join_null:\n",
    "                print(\"Not everything joined. Table saved to tmp dir.\")\n",
    "                table_join.to_csv('../tmp/table-not-joined.csv')\n",
    "\n",
    "\n",
    "        print(\"Saving joined table\")\n",
    "        table_final = table_join.exclude(\n",
    "            ['geo2', 'county2', 'e', 'f', 'g', 'h', 'i', 'j', 'k', 'l', 'geo_two', 'geo_two2', 'GISJOIN2']\n",
    "        )\n",
    "        \n",
    "        # If we've include columns to only include\n",
    "        if select_columns:\n",
    "            table_final = table_final.select(select_columns)\n",
    "            \n",
    "        # If we're renaming columns\n",
    "        if rename_columns:\n",
    "            table_final = table_final.rename(column_names = rename_columns)\n",
    "\n",
    "        table_final.to_csv(g_table_output)\n",
    "        \n",
    "    except ValueError:\n",
    "        return False\n",
    "    \n",
    "def dict_check_add(key, cat, add, categories_dict, classification, row):\n",
    "    try:\n",
    "        if classification == 'ob-hospitals':\n",
    "            if cat == 'NAV' or cat == '' or int(cat) == 0:\n",
    "                cat = 'No OB hospital(s)'\n",
    "            else:\n",
    "                cat = 'OB hospital(s)'\n",
    "        \n",
    "        dicts = [ categories_dict[cat], categories_dict['Total'] ]\n",
    "        \n",
    "        # if key == 'prenatal_eligible':\n",
    "            # print(categories_dict['Total'])\n",
    "            \n",
    "        for c_dict in dicts:\n",
    "            # Ignore if we don't have full results for county\n",
    "            if add == '*' or add == '' or add == '-':\n",
    "                add_up = False\n",
    "            else:\n",
    "                add_up = True\n",
    "                \n",
    "            if classification == 'ob-hospitals' and key == 'prenatal_eligible':\n",
    "                add = round( float(row[3]) / (1 - ( (100 -  float(add) ) / 100) ) )\n",
    "                    \n",
    "            if add_up:\n",
    "                if key not in c_dict:\n",
    "                    c_dict[key] = float(Decimal(add))\n",
    "                else:\n",
    "                    c_dict[key] += float(Decimal(add))\n",
    "    except ValueError:\n",
    "        return False"
   ]
  },
  {
   "cell_type": "code",
   "execution_count": 22,
   "metadata": {
    "collapsed": false,
    "deletable": true,
    "editable": true
   },
   "outputs": [
    {
     "name": "stdout",
     "output_type": "stream",
     "text": [
      "Saving joined table\n"
     ]
    }
   ],
   "source": [
    "year = '2014'\n",
    "\n",
    "g_table_merge_fp = '../edits/hospitals/01-county-totals-14.csv'\n",
    "fp = '../edits/mortality-rate/04-rates-population-10-14-urbanization.csv'\n",
    "classify_column = 'county'\n",
    "classify_column_two = 'county'\n",
    "select_columns = ['geo', 'county', 'Obstetrics Beds', 'births_' + year, 'deaths_' + year, 'rate_' + year, 'Urbanization Status']\n",
    "g_table_output = '../edits/02-mortality-ob-hospitals-14-population.csv'\n",
    "\n",
    "join_tables(fp, classify_column, classify_column_two, select_columns, False)"
   ]
  },
  {
   "cell_type": "code",
   "execution_count": 68,
   "metadata": {
    "collapsed": false,
    "deletable": true,
    "editable": true
   },
   "outputs": [
    {
     "name": "stdout",
     "output_type": "stream",
     "text": [
      "Saving joined table\n"
     ]
    }
   ],
   "source": [
    "year = '2014'\n",
    "\n",
    "fp = '../edits/02-mortality-ob-hospitals-14-population.csv'\n",
    "g_table_merge_fp = '../data/prenatal/raw/' + year + '-county.csv'\n",
    "classify_column = 'county'\n",
    "classify_column_two = 'Geographic Area'\n",
    "select_columns = ['geo', 'county', 'Obstetrics Beds', 'Total Number', 'Total Percent', 'births_' + year, 'deaths_' + year, 'rate_' + year, 'Urbanization Status']\n",
    "g_table_output = '../edits/02-mortality-prenatal-ob-hospitals-14-population.csv'\n",
    "rename_columns = {'Geographic Area': 'county', 'Total Number': 'prenatal_' + year, 'Total Percent': 'prenatal_percent_' + year}\n",
    "\n",
    "join_tables(fp, classify_column, classify_column_two, select_columns, rename_columns)"
   ]
  },
  {
   "cell_type": "code",
   "execution_count": null,
   "metadata": {
    "collapsed": false,
    "deletable": true,
    "editable": true
   },
   "outputs": [],
   "source": []
  }
 ],
 "metadata": {
  "kernelspec": {
   "display_name": "Python 3",
   "language": "python",
   "name": "python3"
  },
  "language_info": {
   "codemirror_mode": {
    "name": "ipython",
    "version": 3
   },
   "file_extension": ".py",
   "mimetype": "text/x-python",
   "name": "python",
   "nbconvert_exporter": "python",
   "pygments_lexer": "ipython3",
   "version": "3.6.2"
  }
 },
 "nbformat": 4,
 "nbformat_minor": 2
}
