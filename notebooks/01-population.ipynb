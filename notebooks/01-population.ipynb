{
 "cells": [
  {
   "cell_type": "code",
   "execution_count": 70,
   "metadata": {
    "collapsed": false,
    "deletable": true,
    "editable": true
   },
   "outputs": [
    {
     "name": "stdout",
     "output_type": "stream",
     "text": [
      "---\n",
      "2010\n",
      "---\n",
      "2011\n",
      "---\n",
      "2012\n",
      "---\n",
      "2013\n",
      "---\n",
      "2014\n"
     ]
    }
   ],
   "source": [
    "import warnings\n",
    "import agate\n",
    "\n",
    "warnings.filterwarnings(action='ignore')\n",
    "\n",
    "years = ['2010', '2011', '2012', '2013', '2014']\n",
    "races = ['Total', 'White', 'Black', 'Hispanic', 'Other']\n",
    "rename_anglo = ['2011']\n",
    "rename_area_name = ['2011']\n",
    "\n",
    "for year in years:\n",
    "    print('---');\n",
    "    print(year);\n",
    "    \n",
    "    fp = '../data/population/og/' + year + '-county.csv'\n",
    "    table = agate.Table.from_csv(fp, encoding='utf-8-sig')\n",
    "    \n",
    "    # Rename columns\n",
    "    if year in rename_anglo:\n",
    "        table = table.rename(column_names = {'Anglo Female': 'White Female'})   \n",
    "    if year in rename_area_name:\n",
    "        table = table.rename(column_names = {'Area Name': 'County'})\n",
    "        \n",
    "    races_dict = {}\n",
    "    select_columns = ['county']\n",
    "    \n",
    "    if year in '2011':\n",
    "        races_dict['County'] = 'county'\n",
    "    else:\n",
    "        races_dict['County '] = 'county'\n",
    "    \n",
    "    # Rename columns and select\n",
    "    for race in races:\n",
    "        race_og = race + ' Female'\n",
    "        new_race_col = 'race_female_' + race.lower() + '_' + year\n",
    "        \n",
    "        races_dict[race_og] = new_race_col\n",
    "        select_columns.append(new_race_col)\n",
    "        \n",
    "    table_rename = table.rename(column_names = races_dict)\n",
    "    table_select = table_rename.select(select_columns)\n",
    "    \n",
    "    table_select.to_csv('../data/population/' + year + '-county.csv')"
   ]
  },
  {
   "cell_type": "code",
   "execution_count": null,
   "metadata": {
    "collapsed": false,
    "deletable": true,
    "editable": true
   },
   "outputs": [],
   "source": []
  }
 ],
 "metadata": {
  "kernelspec": {
   "display_name": "Python 3",
   "language": "python",
   "name": "python3"
  },
  "language_info": {
   "codemirror_mode": {
    "name": "ipython",
    "version": 3
   },
   "file_extension": ".py",
   "mimetype": "text/x-python",
   "name": "python",
   "nbconvert_exporter": "python",
   "pygments_lexer": "ipython3",
   "version": "3.6.2"
  }
 },
 "nbformat": 4,
 "nbformat_minor": 2
}
